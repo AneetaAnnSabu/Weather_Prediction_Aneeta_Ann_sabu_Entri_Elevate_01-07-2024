{
 "cells": [
  {
   "cell_type": "markdown",
   "id": "295fc55f-962e-4b34-b76b-33c21bc70c73",
   "metadata": {},
   "source": [
    "# Weather_Prediction_Aneeta_Ann_sabu_Entri_Elevate_01/07/2024"
   ]
  },
  {
   "cell_type": "markdown",
   "id": "7e04bbad-c37c-4b72-a95d-437e38627ed9",
   "metadata": {},
   "source": [
    "### Table of Contents\n",
    "#### [1.Importing the dataset](#title1)\n",
    "#### [2.EDA](#title2)\n",
    "#### [3.Data Preprocessing](#title3)\n",
    "#####  [i.skewness and Kurtosis](#sub_title_1)\n",
    "#####  [ii.Outliers](#sub_title_2)\n",
    "#### [4. Feature Engineering](#title_4)\n",
    "#####  [i.MinMaxScaler](#sub_title_3)\n",
    "#### [5.Data training and evaluation before feature selection](#title_5)\n",
    "#####  [i.Evaluation of the initial model](#sub_title_4)\n",
    "#### [6.Feature Selection](#title_6)\n",
    "#####  [i.Selectkbest](#sub_title_5)\n",
    "#####  [ii.RFECV](#sub_title_6)\n",
    "#### [7.Data training and evaluation after feature selection](#title_7)\n",
    "#### [8.Hyperparameter tuning](#title_8)\n",
    "#### [9.selecting the best model](#title_9)"
   ]
  },
  {
   "cell_type": "markdown",
   "id": "a97a6557-9b1d-41e0-aa1a-db8db7e18e18",
   "metadata": {},
   "source": [
    "### Predicting Weather based on various features"
   ]
  },
  {
   "cell_type": "markdown",
   "id": "b2bb8356-40d4-4f33-ab92-dbe853e26c10",
   "metadata": {},
   "source": [
    "### Develop a model that accurately predicts weather with low error rates.\n"
   ]
  },
  {
   "cell_type": "code",
   "execution_count": 1,
   "id": "8ccf4cdd-89cf-4d0b-bb15-8ab2b6339949",
   "metadata": {},
   "outputs": [],
   "source": [
    "import pandas as pd\n",
    "import numpy as np \n",
    "import matplotlib.pyplot as plt\n",
    "import seaborn as sns\n",
    "from scipy.stats import skew,kurtosis\n"
   ]
  },
  {
   "cell_type": "markdown",
   "id": "3400291c-3ca5-4bae-ac86-215a21287dd4",
   "metadata": {},
   "source": [
    "### <font color='red'> 1. Importing the dataset<a id ='title1'>"
   ]
  },
  {
   "cell_type": "code",
   "execution_count": 2,
   "id": "2e4949d2-7301-4e61-a6f5-50db01ff7a56",
   "metadata": {},
   "outputs": [
    {
     "name": "stdout",
     "output_type": "stream",
     "text": [
      "<class 'pandas.core.frame.DataFrame'>\n",
      "RangeIndex: 13200 entries, 0 to 13199\n",
      "Data columns (total 11 columns):\n",
      " #   Column                Non-Null Count  Dtype  \n",
      "---  ------                --------------  -----  \n",
      " 0   Temperature           13200 non-null  float64\n",
      " 1   Humidity              13200 non-null  int64  \n",
      " 2   Wind Speed            13200 non-null  float64\n",
      " 3   Precipitation (%)     13200 non-null  float64\n",
      " 4   Cloud Cover           13200 non-null  object \n",
      " 5   Atmospheric Pressure  13200 non-null  float64\n",
      " 6   UV Index              13200 non-null  int64  \n",
      " 7   Season                13200 non-null  object \n",
      " 8   Visibility (km)       13200 non-null  float64\n",
      " 9   Location              13200 non-null  object \n",
      " 10  Weather Type          13200 non-null  object \n",
      "dtypes: float64(5), int64(2), object(4)\n",
      "memory usage: 1.1+ MB\n"
     ]
    }
   ],
   "source": [
    "df=pd.read_csv('weather_classification_data.csv')\n",
    "df.info()"
   ]
  },
  {
   "cell_type": "code",
   "execution_count": 3,
   "id": "ec34b0b8-15a6-4e01-9d28-ce9626d7d1b8",
   "metadata": {},
   "outputs": [
    {
     "data": {
      "text/plain": [
       "(13200, 11)"
      ]
     },
     "execution_count": 3,
     "metadata": {},
     "output_type": "execute_result"
    }
   ],
   "source": [
    "df.shape"
   ]
  },
  {
   "cell_type": "code",
   "execution_count": 4,
   "id": "b5732653-bd62-48b3-ac2b-87c68beaadb6",
   "metadata": {},
   "outputs": [
    {
     "data": {
      "text/html": [
       "<div>\n",
       "<style scoped>\n",
       "    .dataframe tbody tr th:only-of-type {\n",
       "        vertical-align: middle;\n",
       "    }\n",
       "\n",
       "    .dataframe tbody tr th {\n",
       "        vertical-align: top;\n",
       "    }\n",
       "\n",
       "    .dataframe thead th {\n",
       "        text-align: right;\n",
       "    }\n",
       "</style>\n",
       "<table border=\"1\" class=\"dataframe\">\n",
       "  <thead>\n",
       "    <tr style=\"text-align: right;\">\n",
       "      <th></th>\n",
       "      <th>Temperature</th>\n",
       "      <th>Humidity</th>\n",
       "      <th>Wind Speed</th>\n",
       "      <th>Precipitation (%)</th>\n",
       "      <th>Cloud Cover</th>\n",
       "      <th>Atmospheric Pressure</th>\n",
       "      <th>UV Index</th>\n",
       "      <th>Season</th>\n",
       "      <th>Visibility (km)</th>\n",
       "      <th>Location</th>\n",
       "      <th>Weather Type</th>\n",
       "    </tr>\n",
       "  </thead>\n",
       "  <tbody>\n",
       "    <tr>\n",
       "      <th>0</th>\n",
       "      <td>14.0</td>\n",
       "      <td>73</td>\n",
       "      <td>9.5</td>\n",
       "      <td>82.0</td>\n",
       "      <td>partly cloudy</td>\n",
       "      <td>1010.82</td>\n",
       "      <td>2</td>\n",
       "      <td>Winter</td>\n",
       "      <td>3.5</td>\n",
       "      <td>inland</td>\n",
       "      <td>Rainy</td>\n",
       "    </tr>\n",
       "    <tr>\n",
       "      <th>1</th>\n",
       "      <td>39.0</td>\n",
       "      <td>96</td>\n",
       "      <td>8.5</td>\n",
       "      <td>71.0</td>\n",
       "      <td>partly cloudy</td>\n",
       "      <td>1011.43</td>\n",
       "      <td>7</td>\n",
       "      <td>Spring</td>\n",
       "      <td>10.0</td>\n",
       "      <td>inland</td>\n",
       "      <td>Cloudy</td>\n",
       "    </tr>\n",
       "    <tr>\n",
       "      <th>2</th>\n",
       "      <td>30.0</td>\n",
       "      <td>64</td>\n",
       "      <td>7.0</td>\n",
       "      <td>16.0</td>\n",
       "      <td>clear</td>\n",
       "      <td>1018.72</td>\n",
       "      <td>5</td>\n",
       "      <td>Spring</td>\n",
       "      <td>5.5</td>\n",
       "      <td>mountain</td>\n",
       "      <td>Sunny</td>\n",
       "    </tr>\n",
       "    <tr>\n",
       "      <th>3</th>\n",
       "      <td>38.0</td>\n",
       "      <td>83</td>\n",
       "      <td>1.5</td>\n",
       "      <td>82.0</td>\n",
       "      <td>clear</td>\n",
       "      <td>1026.25</td>\n",
       "      <td>7</td>\n",
       "      <td>Spring</td>\n",
       "      <td>1.0</td>\n",
       "      <td>coastal</td>\n",
       "      <td>Sunny</td>\n",
       "    </tr>\n",
       "    <tr>\n",
       "      <th>4</th>\n",
       "      <td>27.0</td>\n",
       "      <td>74</td>\n",
       "      <td>17.0</td>\n",
       "      <td>66.0</td>\n",
       "      <td>overcast</td>\n",
       "      <td>990.67</td>\n",
       "      <td>1</td>\n",
       "      <td>Winter</td>\n",
       "      <td>2.5</td>\n",
       "      <td>mountain</td>\n",
       "      <td>Rainy</td>\n",
       "    </tr>\n",
       "  </tbody>\n",
       "</table>\n",
       "</div>"
      ],
      "text/plain": [
       "   Temperature  Humidity  Wind Speed  Precipitation (%)    Cloud Cover  \\\n",
       "0         14.0        73         9.5               82.0  partly cloudy   \n",
       "1         39.0        96         8.5               71.0  partly cloudy   \n",
       "2         30.0        64         7.0               16.0          clear   \n",
       "3         38.0        83         1.5               82.0          clear   \n",
       "4         27.0        74        17.0               66.0       overcast   \n",
       "\n",
       "   Atmospheric Pressure  UV Index  Season  Visibility (km)  Location  \\\n",
       "0               1010.82         2  Winter              3.5    inland   \n",
       "1               1011.43         7  Spring             10.0    inland   \n",
       "2               1018.72         5  Spring              5.5  mountain   \n",
       "3               1026.25         7  Spring              1.0   coastal   \n",
       "4                990.67         1  Winter              2.5  mountain   \n",
       "\n",
       "  Weather Type  \n",
       "0        Rainy  \n",
       "1       Cloudy  \n",
       "2        Sunny  \n",
       "3        Sunny  \n",
       "4        Rainy  "
      ]
     },
     "execution_count": 4,
     "metadata": {},
     "output_type": "execute_result"
    }
   ],
   "source": [
    "df.head()"
   ]
  },
  {
   "cell_type": "code",
   "execution_count": 5,
   "id": "bcd33330-ce67-463c-ad29-3aaa8dc1361e",
   "metadata": {},
   "outputs": [
    {
     "data": {
      "text/plain": [
       "Weather Type\n",
       "Rainy     3300\n",
       "Cloudy    3300\n",
       "Sunny     3300\n",
       "Snowy     3300\n",
       "Name: count, dtype: int64"
      ]
     },
     "execution_count": 5,
     "metadata": {},
     "output_type": "execute_result"
    }
   ],
   "source": [
    "df['Weather Type'].value_counts()"
   ]
  },
  {
   "cell_type": "markdown",
   "id": "6b0a1d45-a4a9-49e2-9b0b-08f254f43e80",
   "metadata": {},
   "source": [
    "#### The dataset consists of weather-related data collected from various locations. It includes 13200 records, each containing 11 attributes describing different weather conditions and environmental factors.\n",
    "#### 1. Temperature (float64): Measures the temperature in degrees Celsius.\n",
    "#### 2.Humidity (int64): Represents the percentage of humidity.\n",
    "#### 3.Wind Speed (float64): Indicates the wind speed in km/h.\n",
    "#### 4.Precipitation (%) (float64): Shows the percentage of precipitation.\n",
    "#### 5.Cloud Cover (object): Describes the cloud cover category - clear, partly cloudy, overcast, cloudy.\n",
    "#### 6.Atmospheric Pressure (float64): Measures atmospheric pressure in hPa.\n",
    "#### 7.UV Index (int64): Represents the UV index on a scale.\n",
    "#### 8.Season (object): Indicates the season during which the data was recorded - Winter, Spring, Summer, Autumn.\n",
    "#### 9.Visibility (km) (float64): Measures visibility distance in kilometres.\n",
    "#### 10.Location (object): Specifies the location type (e.g., inland, coastal, mountainous).\n",
    "#### 11.Weather Type (object): Describes the type of weather (e.g., Sunny, Rainy, Snowy, Cloudy).\n",
    "\n",
    "#### The target variable in this dataset is \"Weather Type.\" The dataset is well-balanced, with an equal number of entries for each weather type, making it suitable for model creation and analysis."
   ]
  },
  {
   "cell_type": "markdown",
   "id": "cd23172d-d324-49b2-9ac5-895b01085a64",
   "metadata": {},
   "source": [
    "### <font color='red'> 2. EDA <a id='model2'>"
   ]
  },
  {
   "cell_type": "code",
   "execution_count": 6,
   "id": "f05c5b26-bf35-4335-9353-89e0a04d48d7",
   "metadata": {},
   "outputs": [
    {
     "name": "stdout",
     "output_type": "stream",
     "text": [
      "        Temperature      Humidity    Wind Speed  Precipitation (%)  \\\n",
      "count  13200.000000  13200.000000  13200.000000       13200.000000   \n",
      "mean      19.127576     68.710833      9.832197          53.644394   \n",
      "std       17.386327     20.194248      6.908704          31.946541   \n",
      "min      -25.000000     20.000000      0.000000           0.000000   \n",
      "25%        4.000000     57.000000      5.000000          19.000000   \n",
      "50%       21.000000     70.000000      9.000000          58.000000   \n",
      "75%       31.000000     84.000000     13.500000          82.000000   \n",
      "max      109.000000    109.000000     48.500000         109.000000   \n",
      "\n",
      "       Atmospheric Pressure      UV Index  Visibility (km)  \n",
      "count          13200.000000  13200.000000     13200.000000  \n",
      "mean            1005.827896      4.005758         5.462917  \n",
      "std               37.199589      3.856600         3.371499  \n",
      "min              800.120000      0.000000         0.000000  \n",
      "25%              994.800000      1.000000         3.000000  \n",
      "50%             1007.650000      3.000000         5.000000  \n",
      "75%             1016.772500      7.000000         7.500000  \n",
      "max             1199.210000     14.000000        20.000000  \n",
      "       Cloud Cover  Season Location Weather Type\n",
      "count        13200   13200    13200        13200\n",
      "unique           4       4        3            4\n",
      "top       overcast  Winter   inland        Rainy\n",
      "freq          6090    5610     4816         3300\n"
     ]
    }
   ],
   "source": [
    "print(df.describe())\n",
    "print(df.describe(include=['object']))"
   ]
  },
  {
   "cell_type": "code",
   "execution_count": 7,
   "id": "7ac2ddd7-acd0-4ffb-8d3f-76cef512709a",
   "metadata": {},
   "outputs": [
    {
     "data": {
      "image/png": "[encoded data removed]",
      "text/plain": [
       "<Figure size 640x480 with 2 Axes>"
      ]
     },
     "metadata": {},
     "output_type": "display_data"
    }
   ],
   "source": [
    "sns.heatmap(df.select_dtypes(include=['float64','int64']).corr(),annot=True)\n",
    "plt.show()"
   ]
  },
  {
   "cell_type": "markdown",
   "id": "32d66fa9-7a7d-40f0-aaeb-e8e2795d770a",
   "metadata": {},
   "source": [
    "### lacks strong linear relations among the numerical columns"
   ]
  },
  {
   "cell_type": "markdown",
   "id": "4b7dcfce-088d-4bf7-b8dc-49ea8e50a43e",
   "metadata": {},
   "source": [
    "### <font color='red'> 3.Data Preprocessing <a id='model3'>"
   ]
  },
  {
   "cell_type": "code",
   "execution_count": 8,
   "id": "a1a7804e-e109-4d81-b349-9776273b5110",
   "metadata": {},
   "outputs": [],
   "source": [
    "df1=df.copy()"
   ]
  },
  {
   "cell_type": "code",
   "execution_count": 9,
   "id": "b490e643-0b9e-46c1-868a-d328ababfcc0",
   "metadata": {},
   "outputs": [
    {
     "name": "stdout",
     "output_type": "stream",
     "text": [
      "Total duplicate rows: 0\n"
     ]
    }
   ],
   "source": [
    "print(f\"Total duplicate rows: {df1.duplicated().sum()}\")"
   ]
  },
  {
   "cell_type": "markdown",
   "id": "d67edba1-5186-495b-bf7d-65e1b15b00d4",
   "metadata": {},
   "source": [
    "#### <font color='blue'> Skewness and Kurtosis<a id ='sub_title_1'>"
   ]
  },
  {
   "cell_type": "code",
   "execution_count": 10,
   "id": "2980a9d5-d14c-4636-ae9c-c294778b1e9b",
   "metadata": {
    "scrolled": true
   },
   "outputs": [
    {
     "name": "stdout",
     "output_type": "stream",
     "text": [
      "skewness:\n",
      " Temperature             0.221741\n",
      "Humidity               -0.401614\n",
      "Wind Speed              1.360263\n",
      "Precipitation (%)      -0.152457\n",
      "Atmospheric Pressure   -0.293899\n",
      "UV Index                0.900010\n",
      "Visibility (km)         1.233275\n",
      "dtype: float64\n",
      "\n",
      "kurtosis:\n",
      " Temperature              0.586051\n",
      "Humidity                -0.338366\n",
      "Wind Speed               3.255194\n",
      "Precipitation (%)       -1.354039\n",
      "Atmospheric Pressure    12.778071\n",
      "UV Index                -0.362166\n",
      "Visibility (km)          2.517275\n",
      "dtype: float64\n"
     ]
    }
   ],
   "source": [
    "#calculate the skewness and kurtosis for numerical columns\n",
    "skewness=df1.select_dtypes(include=['float64','int64']).skew()\n",
    "print('skewness:\\n',skewness)\n",
    "kurtosis=df1.select_dtypes(include=['float64','int64']).kurtosis()\n",
    "print('\\nkurtosis:\\n',kurtosis)\n"
   ]
  },
  {
   "cell_type": "markdown",
   "id": "6d6ad90a-5d7f-413a-a7dd-74cfb1906783",
   "metadata": {},
   "source": [
    "#### Wind Speed and Visibility (km) have high positive skewness.\n",
    "#### Atmospheric Pressure has an extremely high kurtosis indicating significant outliers.\n",
    "#### Temperature, Humidity, Precipitation (%), and UV Index show relatively normal distributions with slight skewness and kurtosis deviations.\n",
    "#### Wind Speed shows both high skewness and kurtosis, indicating a highly asymmetric distribution with heavy tails."
   ]
  },
  {
   "cell_type": "markdown",
   "id": "485a2cf6-b110-4c7e-a83f-0a7b2e59e69d",
   "metadata": {},
   "source": [
    "#### <font color= 'blue'> Outliers - detection and treatment <a id ='sub_title_2'>"
   ]
  },
  {
   "cell_type": "code",
   "execution_count": 11,
   "id": "fc5ce7f8-2f1c-484a-a5de-c1883f2a5b9f",
   "metadata": {},
   "outputs": [],
   "source": [
    "# outlier removal-used the IQR method due to the non-normally distributed nature indicated by skewness and kurtosis values."
   ]
  },
  {
   "cell_type": "code",
   "execution_count": 12,
   "id": "a1d2d904-8c6d-4c54-90de-b56fae08fbc4",
   "metadata": {},
   "outputs": [],
   "source": [
    "#removing outliers of numerical columns\n",
    "col_outliers=['Temperature','Humidity','Wind Speed','Precipitation (%)','Atmospheric Pressure','UV Index','Visibility (km)']"
   ]
  },
  {
   "cell_type": "code",
   "execution_count": 13,
   "id": "cd9c5d33-7d4c-405d-aa06-1d59fd5a0ab3",
   "metadata": {},
   "outputs": [
    {
     "data": {
      "image/png": "[encoded data removed]",
      "text/plain": [
       "<Figure size 1500x1000 with 7 Axes>"
      ]
     },
     "metadata": {},
     "output_type": "display_data"
    }
   ],
   "source": [
    "#boxplot\n",
    "plt.figure(figsize=(15,10))\n",
    "for i, col in enumerate(col_outliers):\n",
    "    plt.subplot(5,4,i+1)\n",
    "    sns.boxplot(y=df[col])\n",
    "    plt.title(col)\n",
    "plt.tight_layout()\n",
    "plt.show()"
   ]
  },
  {
   "cell_type": "code",
   "execution_count": 14,
   "id": "95644aa1-95a4-41da-bfcd-b4c520c7a829",
   "metadata": {},
   "outputs": [],
   "source": [
    "#outlier removal using iqr\n",
    "def whiskers(col):\n",
    "    q1, q3 = np.percentile(col, [25, 75])\n",
    "    iqr = q3 - q1\n",
    "    lw = q1 - 1.5 * iqr\n",
    "    uw = q3 + 1.5 * iqr\n",
    "    return lw, uw\n",
    "\n",
    "for col in col_outliers:\n",
    "    lw, uw = whiskers(df1[col])\n",
    "    df1[col] = np.where(df1[col] < lw, lw, df1[col])\n",
    "    df1[col] = np.where(df1[col] > uw, uw, df1[col])"
   ]
  },
  {
   "cell_type": "code",
   "execution_count": 15,
   "id": "b48e8188-a807-413e-b463-f6fd2dc886b0",
   "metadata": {},
   "outputs": [
    {
     "data": {
      "image/png": "[encoded data removed]",
      "text/plain": [
       "<Figure size 1500x1000 with 7 Axes>"
      ]
     },
     "metadata": {},
     "output_type": "display_data"
    }
   ],
   "source": [
    "plt.figure(figsize=(15,10))\n",
    "for i, col in enumerate(col_outliers):\n",
    "    plt.subplot(5,4,i+1)\n",
    "    sns.boxplot(y=df1[col])\n",
    "    plt.title(col)\n",
    "plt.tight_layout()\n",
    "plt.show()"
   ]
  },
  {
   "cell_type": "markdown",
   "id": "730a6649-fd4a-4e7e-9ca1-3d3d440a0428",
   "metadata": {},
   "source": [
    "### <font color='red'> 4. Feature Engineering <a id ='title_4'>"
   ]
  },
  {
   "cell_type": "code",
   "execution_count": 16,
   "id": "c0b5f33c-dd40-4412-966c-3b0596513fd8",
   "metadata": {},
   "outputs": [],
   "source": [
    "#Encode categorical features to numerical using one-hot encoding to prepare the data for machine learning algorithms."
   ]
  },
  {
   "cell_type": "code",
   "execution_count": 17,
   "id": "3e39dbbb-2e1e-4300-9215-03ae5505e8dd",
   "metadata": {},
   "outputs": [
    {
     "data": {
      "text/html": [
       "<div>\n",
       "<style scoped>\n",
       "    .dataframe tbody tr th:only-of-type {\n",
       "        vertical-align: middle;\n",
       "    }\n",
       "\n",
       "    .dataframe tbody tr th {\n",
       "        vertical-align: top;\n",
       "    }\n",
       "\n",
       "    .dataframe thead th {\n",
       "        text-align: right;\n",
       "    }\n",
       "</style>\n",
       "<table border=\"1\" class=\"dataframe\">\n",
       "  <thead>\n",
       "    <tr style=\"text-align: right;\">\n",
       "      <th></th>\n",
       "      <th>Temperature</th>\n",
       "      <th>Humidity</th>\n",
       "      <th>Wind Speed</th>\n",
       "      <th>Precipitation (%)</th>\n",
       "      <th>Atmospheric Pressure</th>\n",
       "      <th>UV Index</th>\n",
       "      <th>Visibility (km)</th>\n",
       "      <th>Weather Type</th>\n",
       "      <th>Cloud Cover_clear</th>\n",
       "      <th>Cloud Cover_cloudy</th>\n",
       "      <th>Cloud Cover_overcast</th>\n",
       "      <th>Cloud Cover_partly cloudy</th>\n",
       "      <th>Season_Autumn</th>\n",
       "      <th>Season_Spring</th>\n",
       "      <th>Season_Summer</th>\n",
       "      <th>Season_Winter</th>\n",
       "      <th>Location_coastal</th>\n",
       "      <th>Location_inland</th>\n",
       "      <th>Location_mountain</th>\n",
       "    </tr>\n",
       "  </thead>\n",
       "  <tbody>\n",
       "    <tr>\n",
       "      <th>0</th>\n",
       "      <td>14.0</td>\n",
       "      <td>73.0</td>\n",
       "      <td>9.5</td>\n",
       "      <td>82.0</td>\n",
       "      <td>1010.82000</td>\n",
       "      <td>2.0</td>\n",
       "      <td>3.5</td>\n",
       "      <td>Rainy</td>\n",
       "      <td>False</td>\n",
       "      <td>False</td>\n",
       "      <td>False</td>\n",
       "      <td>True</td>\n",
       "      <td>False</td>\n",
       "      <td>False</td>\n",
       "      <td>False</td>\n",
       "      <td>True</td>\n",
       "      <td>False</td>\n",
       "      <td>True</td>\n",
       "      <td>False</td>\n",
       "    </tr>\n",
       "    <tr>\n",
       "      <th>1</th>\n",
       "      <td>39.0</td>\n",
       "      <td>96.0</td>\n",
       "      <td>8.5</td>\n",
       "      <td>71.0</td>\n",
       "      <td>1011.43000</td>\n",
       "      <td>7.0</td>\n",
       "      <td>10.0</td>\n",
       "      <td>Cloudy</td>\n",
       "      <td>False</td>\n",
       "      <td>False</td>\n",
       "      <td>False</td>\n",
       "      <td>True</td>\n",
       "      <td>False</td>\n",
       "      <td>True</td>\n",
       "      <td>False</td>\n",
       "      <td>False</td>\n",
       "      <td>False</td>\n",
       "      <td>True</td>\n",
       "      <td>False</td>\n",
       "    </tr>\n",
       "    <tr>\n",
       "      <th>2</th>\n",
       "      <td>30.0</td>\n",
       "      <td>64.0</td>\n",
       "      <td>7.0</td>\n",
       "      <td>16.0</td>\n",
       "      <td>1018.72000</td>\n",
       "      <td>5.0</td>\n",
       "      <td>5.5</td>\n",
       "      <td>Sunny</td>\n",
       "      <td>True</td>\n",
       "      <td>False</td>\n",
       "      <td>False</td>\n",
       "      <td>False</td>\n",
       "      <td>False</td>\n",
       "      <td>True</td>\n",
       "      <td>False</td>\n",
       "      <td>False</td>\n",
       "      <td>False</td>\n",
       "      <td>False</td>\n",
       "      <td>True</td>\n",
       "    </tr>\n",
       "    <tr>\n",
       "      <th>3</th>\n",
       "      <td>38.0</td>\n",
       "      <td>83.0</td>\n",
       "      <td>1.5</td>\n",
       "      <td>82.0</td>\n",
       "      <td>1026.25000</td>\n",
       "      <td>7.0</td>\n",
       "      <td>1.0</td>\n",
       "      <td>Sunny</td>\n",
       "      <td>True</td>\n",
       "      <td>False</td>\n",
       "      <td>False</td>\n",
       "      <td>False</td>\n",
       "      <td>False</td>\n",
       "      <td>True</td>\n",
       "      <td>False</td>\n",
       "      <td>False</td>\n",
       "      <td>True</td>\n",
       "      <td>False</td>\n",
       "      <td>False</td>\n",
       "    </tr>\n",
       "    <tr>\n",
       "      <th>4</th>\n",
       "      <td>27.0</td>\n",
       "      <td>74.0</td>\n",
       "      <td>17.0</td>\n",
       "      <td>66.0</td>\n",
       "      <td>990.67000</td>\n",
       "      <td>1.0</td>\n",
       "      <td>2.5</td>\n",
       "      <td>Rainy</td>\n",
       "      <td>False</td>\n",
       "      <td>False</td>\n",
       "      <td>True</td>\n",
       "      <td>False</td>\n",
       "      <td>False</td>\n",
       "      <td>False</td>\n",
       "      <td>False</td>\n",
       "      <td>True</td>\n",
       "      <td>False</td>\n",
       "      <td>False</td>\n",
       "      <td>True</td>\n",
       "    </tr>\n",
       "    <tr>\n",
       "      <th>...</th>\n",
       "      <td>...</td>\n",
       "      <td>...</td>\n",
       "      <td>...</td>\n",
       "      <td>...</td>\n",
       "      <td>...</td>\n",
       "      <td>...</td>\n",
       "      <td>...</td>\n",
       "      <td>...</td>\n",
       "      <td>...</td>\n",
       "      <td>...</td>\n",
       "      <td>...</td>\n",
       "      <td>...</td>\n",
       "      <td>...</td>\n",
       "      <td>...</td>\n",
       "      <td>...</td>\n",
       "      <td>...</td>\n",
       "      <td>...</td>\n",
       "      <td>...</td>\n",
       "      <td>...</td>\n",
       "    </tr>\n",
       "    <tr>\n",
       "      <th>13195</th>\n",
       "      <td>10.0</td>\n",
       "      <td>74.0</td>\n",
       "      <td>14.5</td>\n",
       "      <td>71.0</td>\n",
       "      <td>1003.15000</td>\n",
       "      <td>1.0</td>\n",
       "      <td>1.0</td>\n",
       "      <td>Rainy</td>\n",
       "      <td>False</td>\n",
       "      <td>False</td>\n",
       "      <td>True</td>\n",
       "      <td>False</td>\n",
       "      <td>False</td>\n",
       "      <td>False</td>\n",
       "      <td>True</td>\n",
       "      <td>False</td>\n",
       "      <td>False</td>\n",
       "      <td>False</td>\n",
       "      <td>True</td>\n",
       "    </tr>\n",
       "    <tr>\n",
       "      <th>13196</th>\n",
       "      <td>-1.0</td>\n",
       "      <td>76.0</td>\n",
       "      <td>3.5</td>\n",
       "      <td>23.0</td>\n",
       "      <td>1049.73125</td>\n",
       "      <td>1.0</td>\n",
       "      <td>6.0</td>\n",
       "      <td>Snowy</td>\n",
       "      <td>False</td>\n",
       "      <td>True</td>\n",
       "      <td>False</td>\n",
       "      <td>False</td>\n",
       "      <td>False</td>\n",
       "      <td>False</td>\n",
       "      <td>False</td>\n",
       "      <td>True</td>\n",
       "      <td>True</td>\n",
       "      <td>False</td>\n",
       "      <td>False</td>\n",
       "    </tr>\n",
       "    <tr>\n",
       "      <th>13197</th>\n",
       "      <td>30.0</td>\n",
       "      <td>77.0</td>\n",
       "      <td>5.5</td>\n",
       "      <td>28.0</td>\n",
       "      <td>1012.69000</td>\n",
       "      <td>3.0</td>\n",
       "      <td>9.0</td>\n",
       "      <td>Cloudy</td>\n",
       "      <td>False</td>\n",
       "      <td>False</td>\n",
       "      <td>True</td>\n",
       "      <td>False</td>\n",
       "      <td>True</td>\n",
       "      <td>False</td>\n",
       "      <td>False</td>\n",
       "      <td>False</td>\n",
       "      <td>True</td>\n",
       "      <td>False</td>\n",
       "      <td>False</td>\n",
       "    </tr>\n",
       "    <tr>\n",
       "      <th>13198</th>\n",
       "      <td>3.0</td>\n",
       "      <td>76.0</td>\n",
       "      <td>10.0</td>\n",
       "      <td>94.0</td>\n",
       "      <td>984.27000</td>\n",
       "      <td>0.0</td>\n",
       "      <td>2.0</td>\n",
       "      <td>Snowy</td>\n",
       "      <td>False</td>\n",
       "      <td>False</td>\n",
       "      <td>True</td>\n",
       "      <td>False</td>\n",
       "      <td>False</td>\n",
       "      <td>False</td>\n",
       "      <td>False</td>\n",
       "      <td>True</td>\n",
       "      <td>False</td>\n",
       "      <td>True</td>\n",
       "      <td>False</td>\n",
       "    </tr>\n",
       "    <tr>\n",
       "      <th>13199</th>\n",
       "      <td>-5.0</td>\n",
       "      <td>38.0</td>\n",
       "      <td>0.0</td>\n",
       "      <td>92.0</td>\n",
       "      <td>1015.37000</td>\n",
       "      <td>5.0</td>\n",
       "      <td>10.0</td>\n",
       "      <td>Rainy</td>\n",
       "      <td>False</td>\n",
       "      <td>False</td>\n",
       "      <td>True</td>\n",
       "      <td>False</td>\n",
       "      <td>True</td>\n",
       "      <td>False</td>\n",
       "      <td>False</td>\n",
       "      <td>False</td>\n",
       "      <td>False</td>\n",
       "      <td>False</td>\n",
       "      <td>True</td>\n",
       "    </tr>\n",
       "  </tbody>\n",
       "</table>\n",
       "<p>13200 rows × 19 columns</p>\n",
       "</div>"
      ],
      "text/plain": [
       "       Temperature  Humidity  Wind Speed  Precipitation (%)  \\\n",
       "0             14.0      73.0         9.5               82.0   \n",
       "1             39.0      96.0         8.5               71.0   \n",
       "2             30.0      64.0         7.0               16.0   \n",
       "3             38.0      83.0         1.5               82.0   \n",
       "4             27.0      74.0        17.0               66.0   \n",
       "...            ...       ...         ...                ...   \n",
       "13195         10.0      74.0        14.5               71.0   \n",
       "13196         -1.0      76.0         3.5               23.0   \n",
       "13197         30.0      77.0         5.5               28.0   \n",
       "13198          3.0      76.0        10.0               94.0   \n",
       "13199         -5.0      38.0         0.0               92.0   \n",
       "\n",
       "       Atmospheric Pressure  UV Index  Visibility (km) Weather Type  \\\n",
       "0                1010.82000       2.0              3.5        Rainy   \n",
       "1                1011.43000       7.0             10.0       Cloudy   \n",
       "2                1018.72000       5.0              5.5        Sunny   \n",
       "3                1026.25000       7.0              1.0        Sunny   \n",
       "4                 990.67000       1.0              2.5        Rainy   \n",
       "...                     ...       ...              ...          ...   \n",
       "13195            1003.15000       1.0              1.0        Rainy   \n",
       "13196            1049.73125       1.0              6.0        Snowy   \n",
       "13197            1012.69000       3.0              9.0       Cloudy   \n",
       "13198             984.27000       0.0              2.0        Snowy   \n",
       "13199            1015.37000       5.0             10.0        Rainy   \n",
       "\n",
       "       Cloud Cover_clear  Cloud Cover_cloudy  Cloud Cover_overcast  \\\n",
       "0                  False               False                 False   \n",
       "1                  False               False                 False   \n",
       "2                   True               False                 False   \n",
       "3                   True               False                 False   \n",
       "4                  False               False                  True   \n",
       "...                  ...                 ...                   ...   \n",
       "13195              False               False                  True   \n",
       "13196              False                True                 False   \n",
       "13197              False               False                  True   \n",
       "13198              False               False                  True   \n",
       "13199              False               False                  True   \n",
       "\n",
       "       Cloud Cover_partly cloudy  Season_Autumn  Season_Spring  Season_Summer  \\\n",
       "0                           True          False          False          False   \n",
       "1                           True          False           True          False   \n",
       "2                          False          False           True          False   \n",
       "3                          False          False           True          False   \n",
       "4                          False          False          False          False   \n",
       "...                          ...            ...            ...            ...   \n",
       "13195                      False          False          False           True   \n",
       "13196                      False          False          False          False   \n",
       "13197                      False           True          False          False   \n",
       "13198                      False          False          False          False   \n",
       "13199                      False           True          False          False   \n",
       "\n",
       "       Season_Winter  Location_coastal  Location_inland  Location_mountain  \n",
       "0               True             False             True              False  \n",
       "1              False             False             True              False  \n",
       "2              False             False            False               True  \n",
       "3              False              True            False              False  \n",
       "4               True             False            False               True  \n",
       "...              ...               ...              ...                ...  \n",
       "13195          False             False            False               True  \n",
       "13196           True              True            False              False  \n",
       "13197          False              True            False              False  \n",
       "13198           True             False             True              False  \n",
       "13199          False             False            False               True  \n",
       "\n",
       "[13200 rows x 19 columns]"
      ]
     },
     "execution_count": 17,
     "metadata": {},
     "output_type": "execute_result"
    }
   ],
   "source": [
    "categorical_columns_to_encode=df1.select_dtypes(include=['object']).columns.drop(['Weather Type'])\n",
    "df1_encoded=pd.get_dummies(df1,columns=categorical_columns_to_encode)\n",
    "df1_encoded"
   ]
  },
  {
   "cell_type": "code",
   "execution_count": 18,
   "id": "73b4f540-b9a7-437a-b9fa-369c39c57683",
   "metadata": {
    "scrolled": true
   },
   "outputs": [
    {
     "data": {
      "text/plain": [
       "(13200, 19)"
      ]
     },
     "execution_count": 18,
     "metadata": {},
     "output_type": "execute_result"
    }
   ],
   "source": [
    "df1_encoded.shape"
   ]
  },
  {
   "cell_type": "code",
   "execution_count": 19,
   "id": "927d1055-be8a-4ea7-abf1-11f732209f27",
   "metadata": {},
   "outputs": [
    {
     "data": {
      "text/plain": [
       "Index(['Weather Type'], dtype='object')"
      ]
     },
     "execution_count": 19,
     "metadata": {},
     "output_type": "execute_result"
    }
   ],
   "source": [
    "df1_encoded.select_dtypes(include='object').columns"
   ]
  },
  {
   "cell_type": "markdown",
   "id": "51dfbdca-0994-441c-b325-7f9f48a59e7c",
   "metadata": {},
   "source": [
    "#### <font color='blue'> Scaling - MinMaxScaler<a id='sub_title_3'>"
   ]
  },
  {
   "cell_type": "code",
   "execution_count": 20,
   "id": "ba8b5f10-9d20-456e-ab23-b99739653b70",
   "metadata": {},
   "outputs": [],
   "source": [
    "#scaling numerical features to ensure that they have the same magnitude,preventing some features from dominating others during model training.\n"
   ]
  },
  {
   "cell_type": "code",
   "execution_count": 21,
   "id": "97fa3a44-b912-4595-aac9-7c942c5ab956",
   "metadata": {},
   "outputs": [],
   "source": [
    "#MinMaxScaler\n",
    "from sklearn.preprocessing import MinMaxScaler,StandardScaler"
   ]
  },
  {
   "cell_type": "code",
   "execution_count": 22,
   "id": "713cfecf-742c-49ed-8eb9-c8a3c63d5fc1",
   "metadata": {},
   "outputs": [],
   "source": [
    "numerical_columns=df1_encoded.select_dtypes(include=['float64','int64'])# no need of .column since we need column values not just the column names "
   ]
  },
  {
   "cell_type": "code",
   "execution_count": 23,
   "id": "fbd8d106-17b9-433f-8050-476ce12ce605",
   "metadata": {
    "scrolled": true
   },
   "outputs": [],
   "source": [
    "scaler_minmax=MinMaxScaler()\n",
    "numerical_scaled_minmax=scaler_minmax.fit_transform(numerical_columns)"
   ]
  },
  {
   "cell_type": "code",
   "execution_count": 24,
   "id": "d1989a08-442d-4aac-944c-6726473989e3",
   "metadata": {},
   "outputs": [],
   "source": [
    "#Replace the original numerical columns with scaled values using minmaxscaler\n",
    "df1_scaled_minmax=df1_encoded.copy()\n",
    "df1_scaled_minmax[numerical_columns.columns] = numerical_scaled_minmax"
   ]
  },
  {
   "cell_type": "markdown",
   "id": "6531037f-d99b-41b0-8bd2-e55efedf301d",
   "metadata": {},
   "source": [
    "## <font color='red'> 5. Data training and evaluation before feature selection<a id ='title_5'>"
   ]
  },
  {
   "cell_type": "code",
   "execution_count": 25,
   "id": "431059e2-54c9-4d9c-803a-8c9a50487260",
   "metadata": {},
   "outputs": [],
   "source": [
    "from sklearn.model_selection import train_test_split"
   ]
  },
  {
   "cell_type": "code",
   "execution_count": 26,
   "id": "de01c4de-4e9c-45b1-bec6-b3279f9352ba",
   "metadata": {},
   "outputs": [],
   "source": [
    "x=df1_scaled_minmax.drop(columns=['Weather Type'])\n",
    "y=df1_scaled_minmax['Weather Type']"
   ]
  },
  {
   "cell_type": "code",
   "execution_count": 27,
   "id": "a94a32fc-104c-41d3-ab65-06e0b44a45d3",
   "metadata": {},
   "outputs": [],
   "source": [
    "mx_train,mx_test,my_train,my_test=train_test_split(x,y,test_size=0.2,random_state=42)"
   ]
  },
  {
   "cell_type": "code",
   "execution_count": 28,
   "id": "3683c871-6a47-40b9-8451-433cd74456b4",
   "metadata": {},
   "outputs": [],
   "source": [
    "#training the model"
   ]
  },
  {
   "cell_type": "code",
   "execution_count": 29,
   "id": "35e9fdd1-5823-4d4f-bc4b-82af1fa64386",
   "metadata": {},
   "outputs": [],
   "source": [
    "from sklearn.tree import DecisionTreeClassifier\n",
    "from sklearn.neural_network import MLPClassifier\n",
    "from sklearn.ensemble import RandomForestClassifier,GradientBoostingClassifier\n",
    "from sklearn.svm import SVC\n",
    "from sklearn.metrics import confusion_matrix,classification_report,accuracy_score,precision_score,recall_score,f1_score\n"
   ]
  },
  {
   "cell_type": "code",
   "execution_count": 30,
   "id": "bfc411aa-6020-46d0-ad12-ed9edd3e7d3d",
   "metadata": {},
   "outputs": [],
   "source": [
    "def format_metrics(metrics):\n",
    "    formatted_str = \"\"\n",
    "    for metric, value in metrics.items():\n",
    "        if metric in ['Train confusion matrix', 'Test confusion matrix']:\n",
    "            value_str = '\\n' + str(value)\n",
    "        else:\n",
    "            value_str = str(value)\n",
    "        formatted_str += f\"{metric}: {value_str}\\n\"\n",
    "    return formatted_str"
   ]
  },
  {
   "cell_type": "code",
   "execution_count": 31,
   "id": "dca6f3eb-6b75-4a87-8c8b-95cfea327371",
   "metadata": {},
   "outputs": [],
   "source": [
    "#  model training and testing before feature selection\n",
    "#decisiontree\n",
    "results_1 = []\n",
    "dt_model_1 = DecisionTreeClassifier(min_samples_leaf=4,\n",
    "min_samples_split=5)\n",
    "dt_model_1.fit(mx_train, my_train)\n",
    "dt_pred_1 = dt_model_1.predict(mx_test)\n",
    "dt_metrics_1 = {\n",
    "'Model': 'Decision Tree',\n",
    "'Test Accuracy': accuracy_score(my_test, dt_pred_1),\n",
    "'Train Accuracy': accuracy_score(my_train,\n",
    "dt_model_1.predict(mx_train)),\n",
    "'Precision': precision_score(my_test, dt_pred_1,average='weighted'),\n",
    "'Recall': recall_score(my_test, dt_pred_1,average='weighted'),\n",
    "'F1 score': f1_score(my_test, dt_pred_1,average='weighted'),\n",
    "'Train confusion matrix': confusion_matrix(my_train,\n",
    "dt_model_1.predict(mx_train)),\n",
    "'Test confusion matrix': confusion_matrix(my_test, dt_pred_1)\n",
    "}\n",
    "results_1.append(dt_metrics_1)"
   ]
  },
  {
   "cell_type": "code",
   "execution_count": 32,
   "id": "c2f1d75f-2eb6-4976-ad3c-bba30febbb11",
   "metadata": {},
   "outputs": [],
   "source": [
    "# Random Forest\n",
    "rf_model_1 = RandomForestClassifier(min_samples_leaf=4,\n",
    "n_estimators=50)\n",
    "rf_model_1.fit(mx_train,my_train)\n",
    "rf_pred_1 = rf_model_1.predict(mx_test)\n",
    "rf_metrics_1 = {\n",
    "'Model': 'Random Forest',\n",
    "'Test Accuracy': accuracy_score(my_test,rf_pred_1),\n",
    "'Train Accuracy': accuracy_score(my_train,\n",
    "rf_model_1.predict(mx_train)),\n",
    "'Precision': precision_score(my_test, rf_pred_1,average='weighted'),\n",
    "'Recall': recall_score(my_test, rf_pred_1,average='weighted'),\n",
    "'F1 score': f1_score(my_test, rf_pred_1,average='weighted'),\n",
    "'Train confusion matrix': confusion_matrix(my_train,\n",
    "rf_model_1.predict(mx_train)),\n",
    "'Test confusion matrix': confusion_matrix(my_test, rf_pred_1)\n",
    "}\n",
    "results_1.append(rf_metrics_1)"
   ]
  },
  {
   "cell_type": "code",
   "execution_count": 33,
   "id": "d2efd4ca-4797-4e75-81bd-9e2222f605e9",
   "metadata": {},
   "outputs": [],
   "source": [
    "# Support Vector Machine (SVM)\n",
    "svm_model_1 = SVC(kernel='linear')\n",
    "svm_model_1.fit(mx_train, my_train)\n",
    "svm_pred_1 = svm_model_1.predict(mx_test)\n",
    "svm_metrics_1 = {\n",
    "'Model': 'Support Vector Machine (SVM)',\n",
    "'Test Accuracy': accuracy_score(my_test, svm_pred_1),\n",
    "'Train Accuracy': accuracy_score(my_train,\n",
    "svm_model_1.predict(mx_train)),\n",
    "'Precision': precision_score(my_test, svm_pred_1,average='weighted'),\n",
    "'Recall': recall_score(my_test, svm_pred_1,average='weighted'),\n",
    "'F1 score': f1_score(my_test, svm_pred_1,average='weighted'),\n",
    "'Train confusion matrix': confusion_matrix(my_train,\n",
    "svm_model_1.predict(mx_train)),\n",
    "'Test confusion matrix': confusion_matrix(my_test, svm_pred_1)\n",
    "}\n",
    "results_1.append(svm_metrics_1)"
   ]
  },
  {
   "cell_type": "code",
   "execution_count": 34,
   "id": "3ab1be33-b33c-45b1-be29-bd2cf29b1545",
   "metadata": {},
   "outputs": [],
   "source": [
    "# Gradient Boosting Machines\n",
    "gbm_model_1 = GradientBoostingClassifier(learning_rate=0.01,\n",
    "n_estimators=50)\n",
    "gbm_model_1.fit(mx_train, my_train)\n",
    "gbm_pred_1 = gbm_model_1.predict(mx_test)\n",
    "gbm_metrics_1 = {\n",
    "'Model': 'Gradient Boosting Machines',\n",
    "'Test Accuracy': accuracy_score(my_test, gbm_pred_1),\n",
    "'Train Accuracy': accuracy_score(my_train,\n",
    "gbm_model_1.predict(mx_train)),\n",
    "'Precision': precision_score(my_test, gbm_pred_1,average='weighted'),\n",
    "'Recall': recall_score(my_test, gbm_pred_1,average='weighted'),\n",
    "'F1 score': f1_score(my_test, gbm_pred_1,average='weighted'),\n",
    "'Train confusion matrix': confusion_matrix(my_train,\n",
    "gbm_model_1.predict(mx_train)),\n",
    "'Test confusion matrix': confusion_matrix(my_test, gbm_pred_1)\n",
    "}\n",
    "results_1.append(gbm_metrics_1)"
   ]
  },
  {
   "cell_type": "code",
   "execution_count": 35,
   "id": "af52846f-7b24-41a4-81db-1305d045ca3f",
   "metadata": {},
   "outputs": [],
   "source": [
    "# Multi-layer Perceptron (MLP) Classifier\n",
    "mlp_model_1 = MLPClassifier(hidden_layer_sizes=(50, 50),\n",
    "max_iter=1000)\n",
    "mlp_model_1.fit(mx_train, my_train)\n",
    "mlp_pred_1 = mlp_model_1.predict(mx_test)\n",
    "mlp_metrics_1 = {\n",
    "'Model': 'Multi-layer Perceptron (MLP) Classifier',\n",
    "'Test Accuracy': accuracy_score(my_test, mlp_pred_1),\n",
    "'Train Accuracy': accuracy_score(my_train,\n",
    "mlp_model_1.predict(mx_train)),\n",
    "'Precision': precision_score(my_test, mlp_pred_1,average='weighted'),\n",
    "'Recall': recall_score(my_test, mlp_pred_1,average='weighted'),\n",
    "'F1 score': f1_score(my_test, mlp_pred_1,average='weighted'),\n",
    "'Train confusion matrix': confusion_matrix(my_train,\n",
    "mlp_model_1.predict(mx_train)),\n",
    "'Test confusion matrix': confusion_matrix(my_test, mlp_pred_1)\n",
    "}\n",
    "results_1.append(mlp_metrics_1)\n"
   ]
  },
  {
   "cell_type": "markdown",
   "id": "2fa4e25b-1769-41ac-868d-f3760a4673f0",
   "metadata": {},
   "source": [
    "#### <font color='green'> Evaluation of the initial model <a id ='sub_title_4'>"
   ]
  },
  {
   "cell_type": "code",
   "execution_count": 36,
   "id": "ed8ebc7c-f1d2-4d16-91e7-063b413de350",
   "metadata": {},
   "outputs": [
    {
     "name": "stdout",
     "output_type": "stream",
     "text": [
      "Model: Decision Tree\n",
      "Test Accuracy: 0.906439393939394\n",
      "Train Accuracy: 0.9617424242424243\n",
      "Precision: 0.9070699385042539\n",
      "Recall: 0.906439393939394\n",
      "F1 score: 0.9066723370969557\n",
      "Train confusion matrix: \n",
      "[[2561   48   17   23]\n",
      " [  67 2542   20   24]\n",
      " [  32   38 2506   23]\n",
      " [  45   46   21 2547]]\n",
      "Test confusion matrix: \n",
      "[[578  42  11  20]\n",
      " [ 44 576   9  18]\n",
      " [ 20  11 658  12]\n",
      " [ 29  20  11 581]]\n",
      "\n",
      "*******************\n",
      "Model: Random Forest\n",
      "Test Accuracy: 0.918939393939394\n",
      "Train Accuracy: 0.9868371212121212\n",
      "Precision: 0.9191993613081337\n",
      "Recall: 0.918939393939394\n",
      "F1 score: 0.9190252511537848\n",
      "Train confusion matrix: \n",
      "[[2599   43    5    2]\n",
      " [  20 2620    6    7]\n",
      " [   8    5 2580    6]\n",
      " [  20   10    7 2622]]\n",
      "Test confusion matrix: \n",
      "[[588  29  12  22]\n",
      " [ 31 594   8  14]\n",
      " [ 17  14 660  10]\n",
      " [ 24  19  14 584]]\n",
      "\n",
      "*******************\n",
      "Model: Support Vector Machine (SVM)\n",
      "Test Accuracy: 0.8848484848484849\n",
      "Train Accuracy: 0.8939393939393939\n",
      "Precision: 0.8848498484992977\n",
      "Recall: 0.8848484848484849\n",
      "F1 score: 0.884616259638093\n",
      "Train confusion matrix: \n",
      "[[2268  223   68   90]\n",
      " [ 127 2359  110   57]\n",
      " [  74   35 2421   69]\n",
      " [ 135   51   81 2392]]\n",
      "Test confusion matrix: \n",
      "[[554  54  14  29]\n",
      " [ 34 561  40  12]\n",
      " [ 19   8 660  14]\n",
      " [ 35  24  21 561]]\n",
      "\n",
      "*******************\n",
      "Model: Gradient Boosting Machines\n",
      "Test Accuracy: 0.9022727272727272\n",
      "Train Accuracy: 0.906439393939394\n",
      "Precision: 0.9029328339791391\n",
      "Recall: 0.9022727272727272\n",
      "F1 score: 0.9024871103366029\n",
      "Train confusion matrix: \n",
      "[[2333  206   35   75]\n",
      " [ 115 2437   26   75]\n",
      " [  90   38 2386   85]\n",
      " [ 124   83   36 2416]]\n",
      "Test confusion matrix: \n",
      "[[564  51  10  26]\n",
      " [ 35 587   8  17]\n",
      " [ 12   9 658  22]\n",
      " [ 39  23   6 573]]\n",
      "\n",
      "*******************\n",
      "Model: Multi-layer Perceptron (MLP) Classifier\n",
      "Test Accuracy: 0.9056818181818181\n",
      "Train Accuracy: 0.9646780303030303\n",
      "Precision: 0.9056195855805317\n",
      "Recall: 0.9056818181818181\n",
      "F1 score: 0.9056467768131404\n",
      "Train confusion matrix: \n",
      "[[2515   62   35   37]\n",
      " [  35 2561   32   25]\n",
      " [  18   31 2523   27]\n",
      " [  18   24   29 2588]]\n",
      "Test confusion matrix: \n",
      "[[575  37  13  26]\n",
      " [ 44 571  15  17]\n",
      " [  7  16 661  17]\n",
      " [ 24  19  14 584]]\n",
      "\n",
      "*******************\n"
     ]
    }
   ],
   "source": [
    "for result_1 in results_1:\n",
    "    print(format_metrics(result_1))\n",
    "    print('*******************')"
   ]
  },
  {
   "cell_type": "markdown",
   "id": "efdb6397-ae7d-441a-825d-a8d4edb11383",
   "metadata": {},
   "source": [
    "#### Random Forest outperforms other models in terms of test accuracy, precision, recall, and F1 score, suggesting it is the most robust and reliable model for this dataset.\n",
    "#### Decision Tree and MLP models exhibit signs of overfitting, with high train accuracy but lower test accuracy compared to Random Forest.\n",
    "#### SVM shows the least overfitting but also the lowest overall performance, indicating it might not be the best choice for this particular dataset.\n",
    "#### GBM strikes a balance between train and test accuracy, making it a strong candidate for deployment alongside Random Forest."
   ]
  },
  {
   "cell_type": "markdown",
   "id": "4f74b889-950f-4a4a-af18-8a87a75d5111",
   "metadata": {},
   "source": [
    "## <font color ='Red'> 6. Feature Selection <a id = 'title_6'>"
   ]
  },
  {
   "cell_type": "code",
   "execution_count": 37,
   "id": "313ead96-490b-47b4-93d2-8227818035eb",
   "metadata": {},
   "outputs": [
    {
     "name": "stdout",
     "output_type": "stream",
     "text": [
      "Temperature                  float64\n",
      "Humidity                     float64\n",
      "Wind Speed                   float64\n",
      "Precipitation (%)            float64\n",
      "Atmospheric Pressure         float64\n",
      "UV Index                     float64\n",
      "Visibility (km)              float64\n",
      "Cloud Cover_clear               bool\n",
      "Cloud Cover_cloudy              bool\n",
      "Cloud Cover_overcast            bool\n",
      "Cloud Cover_partly cloudy       bool\n",
      "Season_Autumn                   bool\n",
      "Season_Spring                   bool\n",
      "Season_Summer                   bool\n",
      "Season_Winter                   bool\n",
      "Location_coastal                bool\n",
      "Location_inland                 bool\n",
      "Location_mountain               bool\n",
      "dtype: object\n"
     ]
    }
   ],
   "source": [
    "print(mx_train.dtypes)"
   ]
  },
  {
   "cell_type": "markdown",
   "id": "d0cef15d-19fd-4a8b-bead-8f2bf1761367",
   "metadata": {},
   "source": [
    "#### <font color='blue'> selectkbest <a id = 'sub_title_5'>"
   ]
  },
  {
   "cell_type": "code",
   "execution_count": 38,
   "id": "931e26f5-c2fc-470f-84de-df339a8f37a0",
   "metadata": {},
   "outputs": [
    {
     "name": "stdout",
     "output_type": "stream",
     "text": [
      "Selected Features:\n",
      "Index(['Temperature', 'Humidity', 'Wind Speed', 'Precipitation (%)',\n",
      "       'Atmospheric Pressure', 'UV Index', 'Visibility (km)',\n",
      "       'Cloud Cover_clear', 'Cloud Cover_overcast',\n",
      "       'Cloud Cover_partly cloudy', 'Season_Autumn', 'Season_Spring',\n",
      "       'Season_Summer', 'Season_Winter', 'Location_coastal'],\n",
      "      dtype='object')\n"
     ]
    }
   ],
   "source": [
    "from sklearn.feature_selection import SelectKBest,f_classif\n",
    "# use f_classif, which computes the ANOVA F-value for the provided samples\n",
    "# You can use other scoring functions based on your problem type (e.g., chi2 for classification, f_regression for regression)\n",
    "selector = SelectKBest(score_func=f_classif, k=15) # Select the top 12 features\n",
    "# Fit the selector to your data and transform X to select the top k features\n",
    "X_selected = selector.fit_transform(mx_train, my_train)\n",
    "# Get the indices of the selected features\n",
    "selected_indices = selector.get_support(indices=True)\n",
    "# Get the names of the selected features\n",
    "selected_features = mx_train.columns[selected_indices]\n",
    "# Print the names of the selected features\n",
    "print(\"Selected Features:\")\n",
    "print(selected_features)\n",
    "\n"
   ]
  },
  {
   "cell_type": "markdown",
   "id": "ae68d4b7-fff8-4ac0-b03c-4e146c33b724",
   "metadata": {},
   "source": [
    "#### <font color='blue'> Recursive Feature Elimination with Cross-Validation (RFECV) <a id = 'sub_title_6'>"
   ]
  },
  {
   "cell_type": "code",
   "execution_count": 39,
   "id": "95cda866-d09f-4ecf-ab35-382e142a020a",
   "metadata": {},
   "outputs": [
    {
     "name": "stdout",
     "output_type": "stream",
     "text": [
      "Optimal number of features: 17\n",
      "Selected features: Index(['Temperature', 'Humidity', 'Wind Speed', 'Precipitation (%)',\n",
      "       'Atmospheric Pressure', 'UV Index', 'Visibility (km)',\n",
      "       'Cloud Cover_clear', 'Cloud Cover_cloudy', 'Cloud Cover_overcast',\n",
      "       'Cloud Cover_partly cloudy', 'Season_Autumn', 'Season_Spring',\n",
      "       'Season_Summer', 'Season_Winter', 'Location_coastal',\n",
      "       'Location_inland'],\n",
      "      dtype='object')\n",
      "Cross-validated accuracy: 0.9166666666666667\n"
     ]
    }
   ],
   "source": [
    "from sklearn.model_selection import cross_val_score, StratifiedKFold\n",
    "from sklearn.feature_selection import RFECV\n",
    "from sklearn.ensemble import RandomForestClassifier\n",
    "\n",
    "# Set up cross-validation strategy\n",
    "cv = StratifiedKFold(n_splits=5, shuffle=True, random_state=42)\n",
    "\n",
    "# Initialize the model\n",
    "rf_model = RandomForestClassifier(random_state=42)\n",
    "\n",
    "# Initialize RFECV\n",
    "rfecv = RFECV(estimator=rf_model, step=1, cv=cv, scoring='accuracy')\n",
    "\n",
    "# Fit RFECV to the data\n",
    "rfecv.fit(x, y)\n",
    "\n",
    "# Get the optimal number of features\n",
    "optimal_num_features = rfecv.n_features_\n",
    "\n",
    "# Get the selected features\n",
    "selected_features = x.columns[rfecv.support_]\n",
    "\n",
    "print(f'Optimal number of features: {optimal_num_features}')\n",
    "print(f'Selected features: {selected_features}')\n",
    "\n",
    "# Create a new dataframe with the selected features\n",
    "X_selected = x[selected_features]\n",
    "\n",
    "# Perform cross-validation\n",
    "cv_scores = cross_val_score(rf_model, X_selected, y, cv=cv, scoring='accuracy')\n",
    "\n",
    "print(f'Cross-validated accuracy: {np.mean(cv_scores)}')"
   ]
  },
  {
   "cell_type": "markdown",
   "id": "345844e2-d673-4b02-b0c8-3ae1512b6d8a",
   "metadata": {},
   "source": [
    "### <font color='red'>7. Training the model with features obtained from RFECV <a id = 'title_7'>"
   ]
  },
  {
   "cell_type": "code",
   "execution_count": 40,
   "id": "df186fad-0948-47a0-8069-575c84a20083",
   "metadata": {},
   "outputs": [],
   "source": [
    "# model training\n",
    "X1 = df1_scaled_minmax[['Temperature', 'Humidity', 'Wind Speed', 'Precipitation (%)',\n",
    "       'Atmospheric Pressure', 'UV Index', 'Visibility (km)',\n",
    "       'Cloud Cover_clear', 'Cloud Cover_cloudy', 'Cloud Cover_overcast',\n",
    "       'Cloud Cover_partly cloudy', 'Season_Autumn', 'Season_Spring',\n",
    "       'Season_Summer', 'Season_Winter', 'Location_coastal',\n",
    "       'Location_inland']]\n",
    "Y1 = y\n",
    "X1_train, X1_test, Y1_train, Y1_test = train_test_split(X1,Y1,\n",
    "test_size = 0.2, random_state = 1171)\n",
    "    \n"
   ]
  },
  {
   "cell_type": "code",
   "execution_count": 41,
   "id": "91b59b47-a657-4d2b-80e8-f1417e344003",
   "metadata": {},
   "outputs": [],
   "source": [
    "results =[]\n",
    "# Decision Tree\n",
    "dt_model = DecisionTreeClassifier(min_samples_leaf=4,\n",
    "min_samples_split=5)\n",
    "dt_model.fit(X1_train, Y1_train)\n",
    "dt_pred = dt_model.predict(X1_test)\n",
    "dt_metrics = {\n",
    "'Model': 'Decision Tree',\n",
    "'Test Accuracy': accuracy_score(Y1_test, dt_pred),\n",
    "'Train Accuracy': accuracy_score(Y1_train,\n",
    "dt_model.predict(X1_train)),\n",
    "'Precision': precision_score(Y1_test, dt_pred,average='weighted'),\n",
    "'Recall': recall_score(Y1_test, dt_pred,average='weighted'),\n",
    "'F1 score': f1_score(Y1_test, dt_pred,average='weighted'),\n",
    "'Train confusion matrix': confusion_matrix(Y1_train,\n",
    "dt_model.predict(X1_train)),\n",
    "'Test confusion matrix': confusion_matrix(Y1_test, dt_pred)\n",
    "}\n",
    "results.append(dt_metrics)\n"
   ]
  },
  {
   "cell_type": "code",
   "execution_count": 42,
   "id": "740dc4ef-b124-4231-b63f-387a4c91d4a4",
   "metadata": {},
   "outputs": [],
   "source": [
    "# Random Forest\n",
    "rf_model = RandomForestClassifier(min_samples_leaf=4,\n",
    "n_estimators=50)\n",
    "rf_model.fit(X1_train, Y1_train)\n",
    "rf_pred = rf_model.predict(X1_test)\n",
    "rf_metrics = {\n",
    "'Model': 'Random Forest',\n",
    "'Test Accuracy': accuracy_score(Y1_test, rf_pred),\n",
    "'Train Accuracy': accuracy_score(Y1_train,\n",
    "rf_model.predict(X1_train)),\n",
    "'Precision': precision_score(Y1_test, rf_pred,average='weighted'),\n",
    "'Recall': recall_score(Y1_test, rf_pred,average='weighted'),\n",
    "'F1 score': f1_score(Y1_test, rf_pred,average='weighted'),\n",
    "'Train confusion matrix': confusion_matrix(Y1_train,\n",
    "rf_model.predict(X1_train)),\n",
    "'Test confusion matrix': confusion_matrix(Y1_test, rf_pred)\n",
    "}\n",
    "results.append(rf_metrics)"
   ]
  },
  {
   "cell_type": "code",
   "execution_count": 43,
   "id": "7ba916b1-f2f7-4d8e-8dbb-7dffc4be56b4",
   "metadata": {},
   "outputs": [],
   "source": [
    "# Support Vector Machine (SVM)\n",
    "svm_model = SVC(kernel='linear')\n",
    "svm_model.fit(X1_train, Y1_train)\n",
    "svm_pred = svm_model.predict(X1_test)\n",
    "svm_metrics = {\n",
    "'Model': 'Support Vector Machine (SVM)',\n",
    "'Test Accuracy': accuracy_score(Y1_test, svm_pred),\n",
    "'Train Accuracy': accuracy_score(Y1_train,\n",
    "svm_model.predict(X1_train)),\n",
    "'Precision': precision_score(Y1_test, svm_pred,average='weighted'),\n",
    "'Recall': recall_score(Y1_test, svm_pred,average='weighted'),\n",
    "'F1 score': f1_score(Y1_test, svm_pred,average='weighted'),\n",
    "'Train confusion matrix': confusion_matrix(Y1_train,\n",
    "svm_model.predict(X1_train)),\n",
    "'Test confusion matrix': confusion_matrix(Y1_test, svm_pred)\n",
    "}\n",
    "results.append(svm_metrics)\n"
   ]
  },
  {
   "cell_type": "code",
   "execution_count": 44,
   "id": "8910d0d7-0e46-4f4f-816c-e332c4bd0d8c",
   "metadata": {},
   "outputs": [],
   "source": [
    "# Gradient Boosting Machines\n",
    "gbm_model = GradientBoostingClassifier(learning_rate=0.01,\n",
    "n_estimators=50)\n",
    "gbm_model.fit(X1_train, Y1_train)\n",
    "gbm_pred = gbm_model.predict(X1_test)\n",
    "gbm_metrics = {\n",
    "'Model': 'Gradient Boosting Machines',\n",
    "'Test Accuracy': accuracy_score(Y1_test, gbm_pred),\n",
    "'Train Accuracy': accuracy_score(Y1_train,\n",
    "gbm_model.predict(X1_train)),\n",
    "'Precision': precision_score(Y1_test, gbm_pred,average='weighted'),\n",
    "'Recall': recall_score(Y1_test, gbm_pred,average='weighted'),\n",
    "'F1 score': f1_score(Y1_test, gbm_pred,average='weighted'),\n",
    "'Train confusion matrix': confusion_matrix(Y1_train,\n",
    "gbm_model.predict(X1_train)),\n",
    "'Test confusion matrix': confusion_matrix(Y1_test, gbm_pred)\n",
    "}\n",
    "results.append(gbm_metrics)"
   ]
  },
  {
   "cell_type": "code",
   "execution_count": 45,
   "id": "d7492e73-e9ee-49d8-9cc3-5e65fa5509b3",
   "metadata": {},
   "outputs": [],
   "source": [
    "# Multi-layer Perceptron (MLP) Classifier\n",
    "mlp_model = MLPClassifier(hidden_layer_sizes=(50, 50),\n",
    "max_iter=1000)\n",
    "mlp_model.fit(X1_train, Y1_train)\n",
    "mlp_pred = mlp_model.predict(X1_test)\n",
    "mlp_metrics = {\n",
    "'Model': 'Multi-layer Perceptron (MLP) Classifier',\n",
    "'Test Accuracy': accuracy_score(Y1_test, mlp_pred),\n",
    "'Train Accuracy': accuracy_score(Y1_train,\n",
    "mlp_model.predict(X1_train)),\n",
    "'Precision': precision_score(Y1_test, mlp_pred,average='weighted'),\n",
    "'Recall': recall_score(Y1_test, mlp_pred,average='weighted'),\n",
    "'F1 score': f1_score(Y1_test, mlp_pred,average='weighted'),\n",
    "'Train confusion matrix': confusion_matrix(Y1_train,\n",
    "mlp_model.predict(X1_train)),\n",
    "'Test confusion matrix': confusion_matrix(Y1_test, mlp_pred)\n",
    "}\n",
    "results.append(mlp_metrics)\n",
    "\n"
   ]
  },
  {
   "cell_type": "code",
   "execution_count": 46,
   "id": "fe169655-c02e-4e7b-97a0-66d0ccfaba4b",
   "metadata": {},
   "outputs": [
    {
     "name": "stdout",
     "output_type": "stream",
     "text": [
      "Model: Decision Tree\n",
      "Test Accuracy: 0.9094696969696969\n",
      "Train Accuracy: 0.9609848484848484\n",
      "Precision: 0.9103671677181725\n",
      "Recall: 0.9094696969696969\n",
      "F1 score: 0.9097320530921214\n",
      "Train confusion matrix: \n",
      "[[2561   49   21   22]\n",
      " [  68 2539   20   14]\n",
      " [  42   33 2533   26]\n",
      " [  49   45   23 2515]]\n",
      "Test confusion matrix: \n",
      "[[579  43  11  14]\n",
      " [ 38 600   9  12]\n",
      " [ 24  23 608  11]\n",
      " [ 19  17  18 614]]\n",
      "\n",
      "------------------------  ---------------------\n",
      "Model: Random Forest\n",
      "Test Accuracy: 0.9113636363636364\n",
      "Train Accuracy: 0.9853219696969697\n",
      "Precision: 0.9123767827757692\n",
      "Recall: 0.9113636363636364\n",
      "F1 score: 0.9116324131307031\n",
      "Train confusion matrix: \n",
      "[[2594   57    0    2]\n",
      " [  27 2608    3    3]\n",
      " [  13    5 2605   11]\n",
      " [  24    8    2 2598]]\n",
      "Test confusion matrix: \n",
      "[[583  39   9  16]\n",
      " [ 30 602  10  17]\n",
      " [ 26  22 606  12]\n",
      " [ 27  16  10 615]]\n",
      "\n",
      "------------------------  ---------------------\n",
      "Model: Support Vector Machine (SVM)\n",
      "Test Accuracy: 0.8833333333333333\n",
      "Train Accuracy: 0.8934659090909091\n",
      "Precision: 0.8836233347734616\n",
      "Recall: 0.8833333333333333\n",
      "F1 score: 0.883399610348007\n",
      "Train confusion matrix: \n",
      "[[2263  224   59  107]\n",
      " [ 108 2351  112   70]\n",
      " [  68   33 2456   77]\n",
      " [ 134   67   66 2365]]\n",
      "Test confusion matrix: \n",
      "[[547  65  12  23]\n",
      " [ 39 580  30  10]\n",
      " [ 21  18 605  22]\n",
      " [ 32  16  20 600]]\n",
      "\n",
      "------------------------  ---------------------\n",
      "Model: Gradient Boosting Machines\n",
      "Test Accuracy: 0.9007575757575758\n",
      "Train Accuracy: 0.9057765151515151\n",
      "Precision: 0.9055302253612283\n",
      "Recall: 0.9007575757575758\n",
      "F1 score: 0.9018305726854264\n",
      "Train confusion matrix: \n",
      "[[2394  213   21   25]\n",
      " [ 181 2424   21   15]\n",
      " [ 132   36 2430   36]\n",
      " [ 196   94   25 2317]]\n",
      "Test confusion matrix: \n",
      "[[570  61  10   6]\n",
      " [ 40 610   5   4]\n",
      " [ 32  26 602   6]\n",
      " [ 39  26   7 596]]\n",
      "\n",
      "------------------------  ---------------------\n",
      "Model: Multi-layer Perceptron (MLP) Classifier\n",
      "Test Accuracy: 0.9068181818181819\n",
      "Train Accuracy: 0.9859848484848485\n",
      "Precision: 0.9073409480150971\n",
      "Recall: 0.9068181818181819\n",
      "F1 score: 0.9069012631937025\n",
      "Train confusion matrix: \n",
      "[[2611   18    5   19]\n",
      " [  37 2578   11   15]\n",
      " [   9    6 2610    9]\n",
      " [  14    3    2 2613]]\n",
      "Test confusion matrix: \n",
      "[[583  29  12  23]\n",
      " [ 37 583  17  22]\n",
      " [ 21  11 610  24]\n",
      " [ 24  17   9 618]]\n",
      "\n",
      "------------------------  ---------------------\n"
     ]
    }
   ],
   "source": [
    "for result in results:\n",
    "    print(format_metrics(result))\n",
    "    print('------------------------  ---------------------')"
   ]
  },
  {
   "cell_type": "markdown",
   "id": "308197da-4a9d-4012-b5ac-28dbcf23059d",
   "metadata": {},
   "source": [
    "#### Decision Tree: Shows improved performance with feature selection, maintaining high accuracy and a balanced precision-recall tradeoff.\n",
    "#### Random Forest: Slight improvement in accuracy and maintains strong performance, indicating that the feature selection has further refined the model's capability.\n",
    "#### SVM: Performance remains consistent, but it lags behind other models in terms of accuracy and precision.\n",
    "#### GBM: Slight reduction in performance metrics, but still shows robust results with balanced precision and recall.\n",
    "#### MLP: Performance remains strong with slight improvements, indicating that feature selection has positively impacted the model."
   ]
  },
  {
   "cell_type": "markdown",
   "id": "c10682db-8e0d-4131-8b12-2765d8636284",
   "metadata": {},
   "source": [
    "## <font color ='Red'> 8. Hyperparameter tuning<a id = 'title_8'>"
   ]
  },
  {
   "cell_type": "markdown",
   "id": "f49e1c2f-78d7-468b-961f-1c65ef5c385e",
   "metadata": {},
   "source": [
    "#### hyperparameter tuning - use grid search or randomised search\n",
    "Hyperparameter tuning is to optimize model performance. By tuning hyperparameters after creating the initial model instance\n",
    "but before final evaluation, you ensure that the model is trained with the best possible settings for your  specific dataset and task."
   ]
  },
  {
   "cell_type": "code",
   "execution_count": 52,
   "id": "9c44b273-0121-4384-8c2d-75f36cb22c2d",
   "metadata": {},
   "outputs": [
    {
     "name": "stdout",
     "output_type": "stream",
     "text": [
      "Best hyperparameters for Decision Tree: {'ccp_alpha': 0.0, 'class_weight': None, 'criterion': 'gini', 'max_depth': 20, 'max_features': None, 'max_leaf_nodes': None, 'min_impurity_decrease': 0.0, 'min_samples_leaf': 4, 'min_samples_split': 10, 'min_weight_fraction_leaf': 0.0, 'monotonic_cst': None, 'random_state': None, 'splitter': 'best'}\n",
      "Test accuracy for Decision Tree: 0.9080\n"
     ]
    }
   ],
   "source": [
    "#DecisionTreeClassifier\n",
    "from sklearn.tree import DecisionTreeClassifier\n",
    "from sklearn.model_selection import GridSearchCV\n",
    "\n",
    "param_grid_dt = {'max_depth': [None, 10, 20, 30], 'min_samples_split': [2, 5, 10], 'min_samples_leaf': [1, 2, 4]}\n",
    "dt_model = DecisionTreeClassifier()\n",
    "grid_search_dt = GridSearchCV(estimator=dt_model, param_grid=param_grid_dt, cv=5, scoring='accuracy')\n",
    "grid_search_dt.fit(X1_train, Y1_train)\n",
    "best_dt = grid_search_dt.best_estimator_\n",
    "\n",
    "print(f\"Best hyperparameters for Decision Tree: {best_dt.get_params()}\")\n",
    "dt_accuracy = best_dt.score(X1_test, Y1_test)\n",
    "print(f\"Test accuracy for Decision Tree: {dt_accuracy:.4f}\")\n",
    "\n",
    "\n"
   ]
  },
  {
   "cell_type": "code",
   "execution_count": null,
   "id": "a673dc3c-c5d7-4166-bb51-7329515277fb",
   "metadata": {},
   "outputs": [],
   "source": [
    "### For decision tree"
   ]
  },
  {
   "cell_type": "code",
   "execution_count": 53,
   "id": "ca4d9d57-8b44-467c-8bf0-1cdf5296f077",
   "metadata": {},
   "outputs": [
    {
     "name": "stdout",
     "output_type": "stream",
     "text": [
      "Best hyperparameters for Random Forest: {'bootstrap': True, 'ccp_alpha': 0.0, 'class_weight': None, 'criterion': 'gini', 'max_depth': None, 'max_features': 'sqrt', 'max_leaf_nodes': None, 'max_samples': None, 'min_impurity_decrease': 0.0, 'min_samples_leaf': 1, 'min_samples_split': 5, 'min_weight_fraction_leaf': 0.0, 'monotonic_cst': None, 'n_estimators': 50, 'n_jobs': None, 'oob_score': False, 'random_state': None, 'verbose': 0, 'warm_start': False}\n",
      "Test accuracy for Random Forest: 0.9144\n"
     ]
    }
   ],
   "source": [
    "#RandomForestClassifier\n",
    "from sklearn.ensemble import RandomForestClassifier\n",
    "\n",
    "param_grid_rf = {'n_estimators': [50, 100, 200], 'max_depth': [None, 10, 20], 'min_samples_split': [2, 5, 10], 'min_samples_leaf': [1, 2, 4]}\n",
    "rf_model = RandomForestClassifier()\n",
    "grid_search_rf = GridSearchCV(estimator=rf_model, param_grid=param_grid_rf, cv=5, scoring='accuracy')\n",
    "grid_search_rf.fit(X1_train, Y1_train)\n",
    "best_rf = grid_search_rf.best_estimator_\n",
    "\n",
    "print(f\"Best hyperparameters for Random Forest: {best_rf.get_params()}\")\n",
    "rf_accuracy = best_rf.score(X1_test, Y1_test)\n",
    "print(f\"Test accuracy for Random Forest: {rf_accuracy:.4f}\")\n"
   ]
  },
  {
   "cell_type": "code",
   "execution_count": 54,
   "id": "75c54df3-c29e-4d1a-b8ce-bda98c7b5bcf",
   "metadata": {},
   "outputs": [
    {
     "name": "stdout",
     "output_type": "stream",
     "text": [
      "Best hyperparameters for SVM: {'C': 100, 'break_ties': False, 'cache_size': 200, 'class_weight': None, 'coef0': 0.0, 'decision_function_shape': 'ovr', 'degree': 3, 'gamma': 0.1, 'kernel': 'rbf', 'max_iter': -1, 'probability': False, 'random_state': None, 'shrinking': True, 'tol': 0.001, 'verbose': False}\n",
      "Test accuracy for SVM: 0.9057\n"
     ]
    }
   ],
   "source": [
    "from sklearn.svm import SVC\n",
    "\n",
    "param_grid_svm = {'C': [0.001, 0.01, 0.1, 1, 10, 100], 'gamma': [0.001, 0.01, 0.1, 1, 10, 100], 'kernel': ['linear', 'rbf']}\n",
    "svm_model = SVC()\n",
    "grid_search_svm = GridSearchCV(estimator=svm_model, param_grid=param_grid_svm, cv=5, scoring='accuracy')\n",
    "grid_search_svm.fit(X1_train, Y1_train)\n",
    "best_svm = grid_search_svm.best_estimator_\n",
    "\n",
    "print(f\"Best hyperparameters for SVM: {best_svm.get_params()}\")\n",
    "svm_accuracy = best_svm.score(X1_test, Y1_test)\n",
    "print(f\"Test accuracy for SVM: {svm_accuracy:.4f}\")"
   ]
  },
  {
   "cell_type": "code",
   "execution_count": 55,
   "id": "3c9bb4d4-8450-481e-a915-61f39818b76c",
   "metadata": {},
   "outputs": [
    {
     "name": "stdout",
     "output_type": "stream",
     "text": [
      "Best hyperparameters for Gradient Boosting Machines: {'ccp_alpha': 0.0, 'criterion': 'friedman_mse', 'init': None, 'learning_rate': 0.2, 'loss': 'log_loss', 'max_depth': 7, 'max_features': None, 'max_leaf_nodes': None, 'min_impurity_decrease': 0.0, 'min_samples_leaf': 1, 'min_samples_split': 2, 'min_weight_fraction_leaf': 0.0, 'n_estimators': 100, 'n_iter_no_change': None, 'random_state': None, 'subsample': 1.0, 'tol': 0.0001, 'validation_fraction': 0.1, 'verbose': 0, 'warm_start': False}\n",
      "Test accuracy for Gradient Boosting Machines: 0.9102\n"
     ]
    }
   ],
   "source": [
    "from sklearn.ensemble import GradientBoostingClassifier\n",
    "\n",
    "param_grid_gbm = {'n_estimators': [50, 100, 200], 'max_depth': [3, 5, 7], 'learning_rate': [0.01, 0.1, 0.2]}\n",
    "gbm_model = GradientBoostingClassifier()\n",
    "grid_search_gbm = GridSearchCV(estimator=gbm_model, param_grid=param_grid_gbm, cv=5, scoring='accuracy')\n",
    "grid_search_gbm.fit(X1_train, Y1_train)\n",
    "best_gbm = grid_search_gbm.best_estimator_\n",
    "\n",
    "print(f\"Best hyperparameters for Gradient Boosting Machines: {best_gbm.get_params()}\")\n",
    "gbm_accuracy = best_gbm.score(X1_test, Y1_test)\n",
    "print(f\"Test accuracy for Gradient Boosting Machines: {gbm_accuracy:.4f}\")"
   ]
  },
  {
   "cell_type": "code",
   "execution_count": 56,
   "id": "bc18b0a5-4724-4c47-8278-60c71b9532ad",
   "metadata": {},
   "outputs": [
    {
     "name": "stdout",
     "output_type": "stream",
     "text": [
      "Best hyperparameters for MLP Classifier: {'activation': 'relu', 'alpha': 0.1, 'batch_size': 'auto', 'beta_1': 0.9, 'beta_2': 0.999, 'early_stopping': False, 'epsilon': 1e-08, 'hidden_layer_sizes': (50, 50), 'learning_rate': 'constant', 'learning_rate_init': 0.001, 'max_fun': 15000, 'max_iter': 1000, 'momentum': 0.9, 'n_iter_no_change': 10, 'nesterovs_momentum': True, 'power_t': 0.5, 'random_state': None, 'shuffle': True, 'solver': 'adam', 'tol': 0.0001, 'validation_fraction': 0.1, 'verbose': False, 'warm_start': False}\n",
      "Test accuracy for MLP Classifier: 0.9076\n"
     ]
    }
   ],
   "source": [
    "from sklearn.neural_network import MLPClassifier\n",
    "\n",
    "param_grid_mlp = {'hidden_layer_sizes': [(50,), (100,), (50, 50), (100, 50)], 'alpha': [0.0001, 0.001, 0.01, 0.1], 'max_iter': [1000]}\n",
    "mlp_model = MLPClassifier()\n",
    "grid_search_mlp = GridSearchCV(estimator=mlp_model, param_grid=param_grid_mlp, cv=5, scoring='accuracy')\n",
    "grid_search_mlp.fit(X1_train, Y1_train)\n",
    "best_mlp = grid_search_mlp.best_estimator_\n",
    "\n",
    "print(f\"Best hyperparameters for MLP Classifier: {best_mlp.get_params()}\")\n",
    "mlp_accuracy = best_mlp.score(X1_test, Y1_test)\n",
    "print(f\"Test accuracy for MLP Classifier: {mlp_accuracy:.4f}\")"
   ]
  },
  {
   "cell_type": "markdown",
   "id": "661c417e-c2dd-46f7-8682-a1860631756f",
   "metadata": {},
   "source": [
    "#### Hyperparameter tuning significantly enhanced the performance of most models, \n",
    "#### particularly Random Forest and Gradient Boosting Machines,SVM"
   ]
  },
  {
   "cell_type": "markdown",
   "id": "169e241f-4e8c-48fc-bac2-e9b17132d6da",
   "metadata": {},
   "source": [
    "### final findings - Random Forest consistently outperformed other models in terms of test accuracy after hyperparameter tuning, making it the top-performing model for this dataset.It is followed by Gradient boosting Machine.\n",
    "\n"
   ]
  },
  {
   "cell_type": "markdown",
   "id": "c6e9c779-3a1a-4fee-93ba-ca1730102a27",
   "metadata": {},
   "source": [
    "### <font color='red'> 9.selecting the best model <a id = 'title_9'>"
   ]
  },
  {
   "cell_type": "markdown",
   "id": "a3c3dc1e-84c4-4945-a06f-e58b2d14e080",
   "metadata": {},
   "source": [
    "#### Random forest is selected as the best model for this dataset"
   ]
  },
  {
   "cell_type": "code",
   "execution_count": null,
   "id": "1ad952bc-41a6-4b72-974d-6806ce64f2a5",
   "metadata": {},
   "outputs": [],
   "source": []
  }
 ],
 "metadata": {
  "kernelspec": {
   "display_name": "Python 3 (ipykernel)",
   "language": "python",
   "name": "python3"
  },
  "language_info": {
   "codemirror_mode": {
    "name": "ipython",
    "version": 3
   },
   "file_extension": ".py",
   "mimetype": "text/x-python",
   "name": "python",
   "nbconvert_exporter": "python",
   "pygments_lexer": "ipython3",
   "version": "3.11.5"
  }
 },
 "nbformat": 4,
 "nbformat_minor": 5
}
